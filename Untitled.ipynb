{
 "cells": [
  {
   "cell_type": "code",
   "execution_count": 1,
   "metadata": {},
   "outputs": [
    {
     "name": "stderr",
     "output_type": "stream",
     "text": [
      "also installing the dependencies ‘Rook’, ‘gridExtra’, ‘bibtex’, ‘downloader’, ‘igraph’, ‘influenceR’, ‘rgexf’, ‘viridis’, ‘visNetwork’, ‘mvtnorm’, ‘truncnorm’, ‘RefManageR’, ‘coda’, ‘matlab’, ‘expm’, ‘RcppParallel’, ‘DiagrammeR’, ‘msm’, ‘etm’, ‘Rsolnp’, ‘knitcitations’, ‘ctmcd’\n",
      "\n",
      "Warning message in install.packages(\"markovchain\", dependencies = TRUE):\n",
      "“installation of package ‘igraph’ had non-zero exit status”Warning message in install.packages(\"markovchain\", dependencies = TRUE):\n",
      "“installation of package ‘DiagrammeR’ had non-zero exit status”Updating HTML index of packages in '.Library'\n",
      "Making 'packages.html' ... done\n"
     ]
    }
   ],
   "source": [
    "install.packages(\"markovchain\", dependencies = TRUE)"
   ]
  },
  {
   "cell_type": "code",
   "execution_count": 3,
   "metadata": {},
   "outputs": [],
   "source": [
    "library(markovchain)\n",
    "\n",
    "mcWeather <- new(\"markovchain\", states = c(\"sunny\", \"cloudy\", \"rain\"),\n",
    "    transitionMatrix = matrix(data = c(0.70, 0.2, 0.1, + 0.3, 0.4, 0.3, + 0.2, 0.45, 0.35),byrow = byRow, nrow = 3), name = \"Weather\") "
   ]
  },
  {
   "cell_type": "code",
   "execution_count": 4,
   "metadata": {},
   "outputs": [
    {
     "name": "stdout",
     "output_type": "stream",
     "text": [
      "     sunny cloudy  rain\n",
      "[1,]  0.39  0.355 0.255\n",
      "         sunny    cloudy      rain\n",
      "[1,] 0.4622776 0.3188612 0.2188612\n"
     ]
    }
   ],
   "source": [
    "initialState <- c(0, 1, 0)\n",
    "after2Days <- initialState * (mcWeather * mcWeather)\n",
    "after7Days <- initialState * (mcWeather ^ 7)\n",
    "print(after2Days)\n",
    "print(after7Days)"
   ]
  },
  {
   "cell_type": "code",
   "execution_count": 5,
   "metadata": {},
   "outputs": [
    {
     "data": {
      "text/html": [
       "<table>\n",
       "<thead><tr><th scope=col>sunny</th><th scope=col>cloudy</th><th scope=col>rain</th></tr></thead>\n",
       "<tbody>\n",
       "\t<tr><td>0.4636313</td><td>0.3181844</td><td>0.2181844</td></tr>\n",
       "</tbody>\n",
       "</table>\n"
      ],
      "text/latex": [
       "\\begin{tabular}{lll}\n",
       " sunny & cloudy & rain\\\\\n",
       "\\hline\n",
       "\t 0.4636313 & 0.3181844 & 0.2181844\\\\\n",
       "\\end{tabular}\n"
      ],
      "text/markdown": [
       "\n",
       "sunny | cloudy | rain | \n",
       "|---|\n",
       "| 0.4636313 | 0.3181844 | 0.2181844 | \n",
       "\n",
       "\n"
      ],
      "text/plain": [
       "     sunny     cloudy    rain     \n",
       "[1,] 0.4636313 0.3181844 0.2181844"
      ]
     },
     "metadata": {},
     "output_type": "display_data"
    }
   ],
   "source": [
    "initialState * (mcWeather ^ 14)"
   ]
  },
  {
   "cell_type": "code",
   "execution_count": 6,
   "metadata": {},
   "outputs": [
    {
     "data": {},
     "metadata": {},
     "output_type": "display_data"
    }
   ],
   "source": [
    "??markovchain"
   ]
  },
  {
   "cell_type": "code",
   "execution_count": null,
   "metadata": {},
   "outputs": [],
   "source": []
  }
 ],
 "metadata": {
  "kernelspec": {
   "display_name": "R",
   "language": "R",
   "name": "ir"
  },
  "language_info": {
   "codemirror_mode": "r",
   "file_extension": ".r",
   "mimetype": "text/x-r-source",
   "name": "R",
   "pygments_lexer": "r",
   "version": "3.4.3"
  }
 },
 "nbformat": 4,
 "nbformat_minor": 2
}
