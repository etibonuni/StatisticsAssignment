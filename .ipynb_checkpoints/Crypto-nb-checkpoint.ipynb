{
 "cells": [
  {
   "cell_type": "code",
   "execution_count": 2,
   "metadata": {},
   "outputs": [
    {
     "data": {
      "text/html": [
       "'en_US.UTF-8'"
      ],
      "text/latex": [
       "'en\\_US.UTF-8'"
      ],
      "text/markdown": [
       "'en_US.UTF-8'"
      ],
      "text/plain": [
       "[1] \"en_US.UTF-8\""
      ]
     },
     "metadata": {},
     "output_type": "display_data"
    }
   ],
   "source": [
    "library(data.table)\n",
    "library(dplyr)\n",
    "library(stats)\n",
    "library(reshape2)\n",
    "library(ggplot2)\n",
    "#library(zoo)\n",
    "library(ggcorrplot)\n",
    "\n",
    "\n",
    "Sys.setlocale(\"LC_TIME\", \"en_US.UTF-8\")"
   ]
  },
  {
   "cell_type": "code",
   "execution_count": 3,
   "metadata": {},
   "outputs": [],
   "source": [
    "correlationTable = function(graphs) {\n",
    "  cross <- cor(x=graphs, method = \"spearman\", use=\"na.or.complete\")\n",
    "  pmat <- cor_pmat(graphs)\n",
    "  \n",
    "  return(list(corr=cross, p.mat=pmat))\n",
    "}\n",
    "findCorrelated = function(orig, highCorr){\n",
    "  match = highCorr[highCorr[,1] == orig | highCorr[,2] == orig,]\n",
    "  match = as.vector(match)\n",
    "  match[match != orig]\n",
    "}\n",
    "extractClusters<-function(correlationTable){\n",
    "  highCorr <- which(correlationTable > 0.90 , arr.ind = TRUE)\n",
    "  \n",
    "  clusters=list()\n",
    "  for (origin in 1:nrow(correlationTable)){\n",
    "    \n",
    "    match <- findCorrelated(origin, highCorr)\n",
    "    \n",
    "    #match2 <- unique(unlist(sapply(match, findCorrelated, highCorr, simplify = T)))\n",
    "    \n",
    "    clusters[[origin]]<-unique(match)\n",
    "  }\n",
    "  \n",
    "  return(clusters)\n",
    "}"
   ]
  },
  {
   "cell_type": "code",
   "execution_count": 4,
   "metadata": {},
   "outputs": [
    {
     "name": "stderr",
     "output_type": "stream",
     "text": [
      "Warning message in file(file, \"rt\"):\n",
      "“cannot open file 'data/crypto-markets.csv': No such file or directory”"
     ]
    },
    {
     "ename": "ERROR",
     "evalue": "Error in file(file, \"rt\"): cannot open the connection\n",
     "output_type": "error",
     "traceback": [
      "Error in file(file, \"rt\"): cannot open the connection\nTraceback:\n",
      "1. read.csv(file = \"data/crypto-markets.csv\", header = TRUE)",
      "2. read.table(file = file, header = header, sep = sep, quote = quote, \n .     dec = dec, fill = fill, comment.char = comment.char, ...)",
      "3. file(file, \"rt\")"
     ]
    }
   ],
   "source": [
    "df = read.csv(file=\"data/crypto-markets.csv\", header=TRUE)\n",
    "\n",
    "# convert the column to Date\n",
    "df$date <- as.Date(df$date, \"%Y-%m-%d\")\n",
    "\n",
    "# Extract the top 20 currencies and take a sane date range...\n",
    "filtereddf <- df %>% select(name, date, ranknow, close) %>% filter(ranknow <= 20, date >= \"2016-01-01\")\n",
    "\n",
    "# ... and plot them,\n",
    "print(ggplot(filtereddf) + geom_line(aes(x = date, y = close, colour = name)))\n",
    "\n",
    "# Pivot the dataframe in order to process it more easily\n",
    "pivotdf <- dcast(filtereddf, date ~ name)\n",
    "\n",
    "# Scale the values so as to be able to calculate the correlation\n",
    "#pivotdf[,-1] <- scale(pivotdf[,-1])\n",
    "\n",
    "# Generate the pairwise correlation table between the 20 crypto-currencies\n",
    "cortbl <-correlationTable(data.frame(scale(pivotdf[,-1])))\n",
    "\n",
    "# Find the currencies that are correlated to within 95% of Bitcoin\n",
    "highCorr = which(cortbl$corr > 0.95 , arr.ind = TRUE)\n",
    "match = findCorrelated(3, highCorr)\n",
    "print(colnames(pivotdf[match+1])) # Print the names of the matching currencies\n",
    "\n",
    "# Melt the resulting currencies so they can be plotted by ggplot\n",
    "tempdf = melt(pivotdf[, c(1, 3, match+1)], id.vars=\"date\")\n",
    "# Plot them\n",
    "print(ggplot(tempdf) + geom_line(aes(x = date, y = value, colour = variable)))\n",
    "\n",
    "# Plot the correlation matrix\n",
    "#corrplot::corrplot(cortbl, type=\"lower\")\n",
    "print(ggcorrplot(cortbl$corr, p.mat=cortbl$p.mat))\n",
    "\n",
    "# Cluster the currencies with correlation > 95%\n",
    "m=extractClusters(cortbl$corr)\n",
    "\n",
    "plotCluster <- function(clusterNumber, clusters, currencyTable) {\n",
    "  currencyNames <- colnames(currencyTable)[-1]\n",
    "  tempdf = melt(currencyTable[, c(1, clusters[[clusterNumber]]+1)], id.vars=\"date\")\n",
    "  print(ggplot(tempdf) + geom_line(aes(x = date, y = value, colour = variable)) + ggtitle(paste(\"Currencies correlated to\", currencyNames[clusterNumber])))\n",
    "}\n",
    "\n",
    "# Plot some example clusters\n",
    "plotCluster(1, m, cbind(data.frame(date=pivotdf$date), data.frame(scale(pivotdf[,-1]))))\n",
    "plotCluster(2, m, cbind(data.frame(date=pivotdf$date), data.frame(scale(pivotdf[,-1]))))\n",
    "plotCluster(3, m, cbind(data.frame(date=pivotdf$date), data.frame(scale(pivotdf[,-1]))))\n",
    "plotCluster(4, m, cbind(data.frame(date=pivotdf$date), data.frame(scale(pivotdf[,-1]))))\n",
    "\n",
    "##### Load conventional currencies ########################\n",
    "df.eur = read.csv(file=\"data/EUR_USD Historical Data.csv\", header=TRUE)\n",
    "df.eur$Date <- as.Date(df.eur$Date, \"%b %d, %Y\")\n",
    "df.eur <- df.eur[,c(\"Date\", \"Price\")]\n",
    "df.eur$Price <- as.numeric(df.eur$Price)\n",
    "colnames(df.eur) <- c(\"Date\", \"Price.eur\")\n",
    "\n",
    "df.gbp = read.csv(file=\"data/GBP_USD Historical Data.csv\", header=TRUE)\n",
    "df.gbp$Date <- as.Date(df.gbp$Date, \"%b %d, %Y\")\n",
    "df.gbp <- df.gbp[,c(\"Date\", \"Price\")]\n",
    "df.gbp$Price <- as.numeric(df.gbp$Price)\n",
    "colnames(df.gbp) <- c(\"Date\", \"Price.gbp\")\n",
    "\n",
    "df.jpy = read.csv(file=\"data/JPY_USD Historical Data.csv\", header=TRUE)\n",
    "df.jpy$Date <- as.Date(df.jpy$Date, \"%b %d, %Y\")\n",
    "df.jpy <- df.jpy[,c(\"Date\", \"Price\")]\n",
    "df.jpy$Price <- as.numeric(df.jpy$Price)\n",
    "colnames(df.jpy) <- c(\"Date\", \"Price.jpy\")\n",
    "\n",
    "# Take bitcoin\n",
    "conv.currencies <- pivotdf[,c(\"date\", \"Bitcoin\")]\n",
    "colnames(conv.currencies)[1] <- \"Date\"\n",
    "conv.currencies$Bitcoin <- as.numeric(conv.currencies$Bitcoin)\n",
    "\n",
    "# Add our conventional currencies\n",
    "conv.currencies <- merge(conv.currencies, merge(df.eur, merge(df.gbp, df.jpy, by=\"Date\", all=TRUE), by=\"Date\", all=TRUE), by=\"Date\", all=TRUE)\n",
    "# Impute NA's with the previous value in the dataframe\n",
    "conv.currencies[,-1] <- conv.currencies[,-1] %>% do(na.locf(.))\n",
    "\n",
    "conv.currencies.scaled <- conv.currencies\n",
    "conv.currencies.scaled[-1] <- scale(conv.currencies[-1], scale=TRUE)\n",
    "\n",
    "# Melt the resulting currencies so they can be plotted by ggplot\n",
    "tempdf = melt(conv.currencies.scaled, id.vars=\"Date\")\n",
    "\n",
    "# Plot them\n",
    "print(ggplot(tempdf) + geom_line(aes(x = Date, y = value, colour = variable)))\n",
    "\n",
    "conv.corr <- correlationTable(conv.currencies.scaled[-1])\n",
    "#corrplot(conv.corr$corr, type=\"lower\", addCoef.col = \"blue\")\n",
    "print(ggcorrplot(conv.corr$corr, p.mat=conv.corr$p.mat))\n",
    "\n",
    "#plot(x=conv.currencies.scaled[,\"Bitcoin\"], y=conv.currencies.scaled[,\"Price.jpy\"])\n"
   ]
  },
  {
   "cell_type": "code",
   "execution_count": null,
   "metadata": {},
   "outputs": [],
   "source": []
  }
 ],
 "metadata": {
  "kernelspec": {
   "display_name": "R",
   "language": "R",
   "name": "ir"
  },
  "language_info": {
   "codemirror_mode": "r",
   "file_extension": ".r",
   "mimetype": "text/x-r-source",
   "name": "R",
   "pygments_lexer": "r",
   "version": "3.4.3"
  }
 },
 "nbformat": 4,
 "nbformat_minor": 2
}
